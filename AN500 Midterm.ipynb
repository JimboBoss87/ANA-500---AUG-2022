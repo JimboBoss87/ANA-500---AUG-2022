{
 "cells": [
  {
   "cell_type": "markdown",
   "id": "38441561",
   "metadata": {},
   "source": [
    "# Midterm - ANA 500: Demetri Papamichalis"
   ]
  },
  {
   "cell_type": "markdown",
   "id": "1a8c02c0",
   "metadata": {},
   "source": [
    "# PART I: Question 4:"
   ]
  },
  {
   "cell_type": "code",
   "execution_count": null,
   "id": "08faf94c",
   "metadata": {},
   "outputs": [],
   "source": [
    "x = 2 \n",
    "y = 3 \n",
    "\n",
    "print('x =', x) # printS 'x = ' and assigned number.\n",
    "print('value of ', x, ' + ', x, ' is ', (x + x) ) # prints given text and variable value, sum.\n",
    "print('x =') # prints 'x =' no value though.\n",
    "print((x + y), 'x =', (y + x)) # prints the sum of variables x + y, the text 'x =' and sum of variables. "
   ]
  },
  {
   "cell_type": "markdown",
   "id": "3b8d7860",
   "metadata": {},
   "source": [
    "# Question 5:"
   ]
  },
  {
   "cell_type": "code",
   "execution_count": null,
   "id": "11e7e0ea",
   "metadata": {},
   "outputs": [],
   "source": [
    "\n",
    "grade = 91 #create and populate variable grade\n",
    "\n",
    "#evaluate grade and print a congratulatory statement if >= 90\n",
    "if grade >=90:\n",
    "    print('Congratulations! Your grade of ', grade, ' earns you an A in this course')\n",
    "else:\n",
    "    print ('Unfortunately your grade of ', grade, ' was not sufficient to earn an A in this course')"
   ]
  },
  {
   "cell_type": "markdown",
   "id": "cf2ee39a",
   "metadata": {},
   "source": [
    "# Question 6:"
   ]
  },
  {
   "cell_type": "code",
   "execution_count": null,
   "id": "4ccd6bc2",
   "metadata": {},
   "outputs": [],
   "source": [
    "input(\"Whats is your problem?\")"
   ]
  },
  {
   "cell_type": "code",
   "execution_count": null,
   "id": "5dc42deb",
   "metadata": {},
   "outputs": [],
   "source": [
    "answer = input(\"Have you had this problem before (yes or no)?\\n\")"
   ]
  },
  {
   "cell_type": "code",
   "execution_count": null,
   "id": "5aa7be4a",
   "metadata": {},
   "outputs": [],
   "source": [
    "if answer == \"yes\":\n",
    "    print(\"Well, you have it again.\\n\")\n",
    "else:\n",
    "    print(\"Well, you have it now.\\n\")"
   ]
  },
  {
   "cell_type": "markdown",
   "id": "176b9eb3",
   "metadata": {},
   "source": [
    "# Question 7:"
   ]
  },
  {
   "cell_type": "code",
   "execution_count": 3,
   "id": "db3dbc82",
   "metadata": {},
   "outputs": [
    {
     "data": {
      "text/plain": [
       "array([[0, 1],\n",
       "       [2, 3]])"
      ]
     },
     "execution_count": 3,
     "metadata": {},
     "output_type": "execute_result"
    }
   ],
   "source": [
    "import pandas as pd\n",
    "import numpy as np\n",
    "\n",
    "#create a 2 x 2 array with the numberrs 0-3\n",
    "array = np.arange(4).reshape(2,2)\n",
    "array "
   ]
  },
  {
   "cell_type": "markdown",
   "id": "8975e16b",
   "metadata": {},
   "source": [
    "# a.Cube every element of the array"
   ]
  },
  {
   "cell_type": "code",
   "execution_count": 4,
   "id": "1fee152a",
   "metadata": {},
   "outputs": [
    {
     "data": {
      "text/plain": [
       "array([[ 0,  1],\n",
       "       [ 8, 27]], dtype=int32)"
      ]
     },
     "execution_count": 4,
     "metadata": {},
     "output_type": "execute_result"
    }
   ],
   "source": [
    "array**3"
   ]
  },
  {
   "cell_type": "markdown",
   "id": "b05485b2",
   "metadata": {},
   "source": [
    "# b. Add 7 to each ellement of the array\n"
   ]
  },
  {
   "cell_type": "code",
   "execution_count": 5,
   "id": "996364d1",
   "metadata": {},
   "outputs": [
    {
     "data": {
      "text/plain": [
       "array([[ 7,  8],\n",
       "       [ 9, 10]])"
      ]
     },
     "execution_count": 5,
     "metadata": {},
     "output_type": "execute_result"
    }
   ],
   "source": [
    "array + 7"
   ]
  },
  {
   "cell_type": "markdown",
   "id": "ba807ba0",
   "metadata": {},
   "source": [
    "# c. Multiply each element of the array by 2\n"
   ]
  },
  {
   "cell_type": "code",
   "execution_count": 6,
   "id": "43057dba",
   "metadata": {},
   "outputs": [
    {
     "data": {
      "text/plain": [
       "array([[0, 2],\n",
       "       [4, 6]])"
      ]
     },
     "execution_count": 6,
     "metadata": {},
     "output_type": "execute_result"
    }
   ],
   "source": [
    "array * 2"
   ]
  },
  {
   "cell_type": "markdown",
   "id": "7f235eb8",
   "metadata": {},
   "source": [
    "# Question 8:"
   ]
  },
  {
   "cell_type": "code",
   "execution_count": 7,
   "id": "2af8215c",
   "metadata": {},
   "outputs": [
    {
     "data": {
      "text/plain": [
       "array([[ 1,  2,  3,  4,  5],\n",
       "       [ 6,  7,  8,  9, 10],\n",
       "       [11, 12, 13, 14, 15]])"
      ]
     },
     "execution_count": 7,
     "metadata": {},
     "output_type": "execute_result"
    }
   ],
   "source": [
    "# Create an array containing the values 1–15, reshape it into a 3-by-5 array,\n",
    "#then use indexing and slicing techniques to perform each of the following operations:\n",
    "array2 = np.arange(1,16,1).reshape(3,5)\n",
    "array2"
   ]
  },
  {
   "cell_type": "markdown",
   "id": "7c875889",
   "metadata": {},
   "source": [
    "# a. Select row 2."
   ]
  },
  {
   "cell_type": "code",
   "execution_count": 8,
   "id": "a78d9350",
   "metadata": {},
   "outputs": [
    {
     "data": {
      "text/plain": [
       "array([ 6,  7,  8,  9, 10])"
      ]
     },
     "execution_count": 8,
     "metadata": {},
     "output_type": "execute_result"
    }
   ],
   "source": [
    "array2[1]"
   ]
  },
  {
   "cell_type": "markdown",
   "id": "cddaa93b",
   "metadata": {},
   "source": [
    "# b. Select column 5."
   ]
  },
  {
   "cell_type": "code",
   "execution_count": 9,
   "id": "fbcc544e",
   "metadata": {},
   "outputs": [
    {
     "data": {
      "text/plain": [
       "array([ 5, 10, 15])"
      ]
     },
     "execution_count": 9,
     "metadata": {},
     "output_type": "execute_result"
    }
   ],
   "source": [
    "array2[:,4]"
   ]
  },
  {
   "cell_type": "markdown",
   "id": "48c335a7",
   "metadata": {},
   "source": [
    "# c. Select rows 0 and 1."
   ]
  },
  {
   "cell_type": "code",
   "execution_count": 10,
   "id": "462db364",
   "metadata": {},
   "outputs": [
    {
     "data": {
      "text/plain": [
       "array([[ 1,  2,  3,  4,  5],\n",
       "       [ 6,  7,  8,  9, 10]])"
      ]
     },
     "execution_count": 10,
     "metadata": {},
     "output_type": "execute_result"
    }
   ],
   "source": [
    "array2[0:2]"
   ]
  },
  {
   "cell_type": "markdown",
   "id": "32a915de",
   "metadata": {},
   "source": [
    "# d.\tSelect columns 2–4."
   ]
  },
  {
   "cell_type": "code",
   "execution_count": 11,
   "id": "094d1f72",
   "metadata": {},
   "outputs": [
    {
     "data": {
      "text/plain": [
       "array([[ 3,  4,  5],\n",
       "       [ 8,  9, 10],\n",
       "       [13, 14, 15]])"
      ]
     },
     "execution_count": 11,
     "metadata": {},
     "output_type": "execute_result"
    }
   ],
   "source": [
    "array2[:,2:5]"
   ]
  },
  {
   "cell_type": "markdown",
   "id": "2533a69b",
   "metadata": {},
   "source": [
    "# e. Select the element that is in row 1 and column 4."
   ]
  },
  {
   "cell_type": "code",
   "execution_count": 12,
   "id": "4c87b6e7",
   "metadata": {},
   "outputs": [
    {
     "data": {
      "text/plain": [
       "4"
      ]
     },
     "execution_count": 12,
     "metadata": {},
     "output_type": "execute_result"
    }
   ],
   "source": [
    "array2[0][3]"
   ]
  },
  {
   "cell_type": "markdown",
   "id": "d20d7add",
   "metadata": {},
   "source": [
    "# f. Select all elements from rows 1 and 2 that are in columns 0, 2 and 4."
   ]
  },
  {
   "cell_type": "code",
   "execution_count": 13,
   "id": "a6ac0af1",
   "metadata": {},
   "outputs": [
    {
     "data": {
      "text/plain": [
       "array([[ 6,  8, 10],\n",
       "       [11, 13, 15]])"
      ]
     },
     "execution_count": 13,
     "metadata": {},
     "output_type": "execute_result"
    }
   ],
   "source": [
    "array2[1:3, np.r_[:1,2,4]]"
   ]
  },
  {
   "cell_type": "markdown",
   "id": "e1305584",
   "metadata": {},
   "source": [
    "# PART II:"
   ]
  },
  {
   "cell_type": "markdown",
   "id": "8c5b0458",
   "metadata": {},
   "source": [
    "# Question 9"
   ]
  },
  {
   "cell_type": "code",
   "execution_count": 43,
   "id": "26f80522",
   "metadata": {},
   "outputs": [
    {
     "name": "stdout",
     "output_type": "stream",
     "text": [
      "Random number list is : [3, 2, 4, 4, 9, 1, 8, 2, 8, 8, 7, 2, 1, 1, 3, 8, 1, 1, 2, 7, 4, 7, 7, 3, 2, 10, 2, 8, 2, 7, 1, 5, 1, 2, 1, 1, 8, 1, 7, 10, 2, 9, 9, 8, 10, 5, 9, 10, 3, 5]\n"
     ]
    }
   ],
   "source": [
    "import random\n",
    "ran = [random.randrange(1, 11, 1) for i in range(50)]\n",
    " \n",
    "# printing result\n",
    "print (\"Random number list is : \" +  str(ran))"
   ]
  },
  {
   "cell_type": "code",
   "execution_count": 44,
   "id": "1b385ecc",
   "metadata": {},
   "outputs": [
    {
     "name": "stdout",
     "output_type": "stream",
     "text": [
      "1 appears 10 times\n",
      "2 appears 9 times\n",
      "3 appears 4 times\n",
      "4 appears 3 times\n",
      "5 appears 3 times\n",
      "6 appears 0 times\n",
      "7 appears 6 times\n",
      "8 appears 7 times\n",
      "9 appears 4 times\n",
      "10 appears 4 times\n"
     ]
    }
   ],
   "source": [
    "#Use NumPy’s unique function to obtain the unique values and their frequencies. Display the results.\n",
    "for x in range (1,11):\n",
    "    y=ran.count(x)\n",
    "    print(x, 'appears',y,'times')"
   ]
  },
  {
   "cell_type": "markdown",
   "id": "52fc9906",
   "metadata": {},
   "source": [
    "# Question 10"
   ]
  },
  {
   "cell_type": "code",
   "execution_count": 52,
   "id": "3b97f087",
   "metadata": {},
   "outputs": [],
   "source": [
    "myList=[1,2,5,4,3,5,2,1,3,3,1,4,3,3,3,2,3,3,2,5]"
   ]
  },
  {
   "cell_type": "code",
   "execution_count": 53,
   "id": "9b222652",
   "metadata": {},
   "outputs": [
    {
     "name": "stdout",
     "output_type": "stream",
     "text": [
      "1 appears 3 times\n",
      "2 appears 4 times\n",
      "3 appears 8 times\n",
      "4 appears 2 times\n",
      "5 appears 3 times\n"
     ]
    }
   ],
   "source": [
    "#determine and display the frequency of each resonse\n",
    "for x in range (1,6):\n",
    "    y=myList.count(x)\n",
    "    print(x, 'appears',y,'times')"
   ]
  },
  {
   "cell_type": "code",
   "execution_count": 55,
   "id": "90be1db0",
   "metadata": {},
   "outputs": [
    {
     "data": {
      "text/plain": [
       "1"
      ]
     },
     "execution_count": 55,
     "metadata": {},
     "output_type": "execute_result"
    }
   ],
   "source": [
    "# Summary statistics:\n",
    "#display the minimum value\n",
    "np.amin(myList,0)"
   ]
  },
  {
   "cell_type": "code",
   "execution_count": 56,
   "id": "597c9e1f",
   "metadata": {},
   "outputs": [
    {
     "data": {
      "text/plain": [
       "5"
      ]
     },
     "execution_count": 56,
     "metadata": {},
     "output_type": "execute_result"
    }
   ],
   "source": [
    "\n",
    "#display the maximum value\n",
    "np.amax(myList,0)"
   ]
  },
  {
   "cell_type": "code",
   "execution_count": 57,
   "id": "b385c453",
   "metadata": {},
   "outputs": [
    {
     "data": {
      "text/plain": [
       "4"
      ]
     },
     "execution_count": 57,
     "metadata": {},
     "output_type": "execute_result"
    }
   ],
   "source": [
    "#display the range of values\n",
    "np.ptp(myList,0)"
   ]
  },
  {
   "cell_type": "code",
   "execution_count": 58,
   "id": "8a885cb0",
   "metadata": {},
   "outputs": [
    {
     "data": {
      "text/plain": [
       "2.9"
      ]
     },
     "execution_count": 58,
     "metadata": {},
     "output_type": "execute_result"
    }
   ],
   "source": [
    "#display the mean value\n",
    "np.mean(myList,0)"
   ]
  },
  {
   "cell_type": "code",
   "execution_count": 59,
   "id": "55b8a68d",
   "metadata": {},
   "outputs": [
    {
     "data": {
      "text/plain": [
       "3.0"
      ]
     },
     "execution_count": 59,
     "metadata": {},
     "output_type": "execute_result"
    }
   ],
   "source": [
    "\n",
    "#display the medianvalue\n",
    "np.median(myList,0)"
   ]
  },
  {
   "cell_type": "code",
   "execution_count": 60,
   "id": "4b4a5d04",
   "metadata": {},
   "outputs": [
    {
     "data": {
      "text/plain": [
       "1.49"
      ]
     },
     "execution_count": 60,
     "metadata": {},
     "output_type": "execute_result"
    }
   ],
   "source": [
    "#display the variance\n",
    "np.var(myList,0)"
   ]
  },
  {
   "cell_type": "code",
   "execution_count": 61,
   "id": "5741e17f",
   "metadata": {},
   "outputs": [
    {
     "data": {
      "text/plain": [
       "1.2206555615733703"
      ]
     },
     "execution_count": 61,
     "metadata": {},
     "output_type": "execute_result"
    }
   ],
   "source": [
    "#display the standard deviation\n",
    "np.std(myList,0)"
   ]
  },
  {
   "cell_type": "markdown",
   "id": "d155d024",
   "metadata": {},
   "source": [
    "# Question 11"
   ]
  },
  {
   "cell_type": "code",
   "execution_count": null,
   "id": "f7c9f0cd",
   "metadata": {},
   "outputs": [],
   "source": [
    "#Analysis: (Intro to Data Science: Visualizing Survey Response Statistics) \n",
    "#Using the list in the previous problem (Problem 10.), display a bar chart showing the response\n",
    "#frequencies and their percentages of the total responses.\n",
    "\n"
   ]
  },
  {
   "cell_type": "code",
   "execution_count": 63,
   "id": "b6897ad5",
   "metadata": {},
   "outputs": [
    {
     "data": {
      "text/plain": [
       "(array([3., 0., 4., 0., 0., 8., 0., 2., 0., 3.]),\n",
       " array([1. , 1.4, 1.8, 2.2, 2.6, 3. , 3.4, 3.8, 4.2, 4.6, 5. ]),\n",
       " <BarContainer object of 10 artists>)"
      ]
     },
     "execution_count": 63,
     "metadata": {},
     "output_type": "execute_result"
    },
    {
     "data": {
      "image/png": "[encoded data removed]",
      "text/plain": [
       "<Figure size 640x480 with 1 Axes>"
      ]
     },
     "metadata": {},
     "output_type": "display_data"
    }
   ],
   "source": [
    "import matplotlib as mpl\n",
    "import matplotlib.pyplot as plt\n",
    "plt.style.use('classic')\n",
    "plt.hist(myList, bins=10)"
   ]
  },
  {
   "cell_type": "code",
   "execution_count": 64,
   "id": "c13fcfe9",
   "metadata": {},
   "outputs": [
    {
     "data": {
      "image/png": "[encoded data removed]",
      "text/plain": [
       "<Figure size 640x480 with 1 Axes>"
      ]
     },
     "metadata": {},
     "output_type": "display_data"
    }
   ],
   "source": [
    "import numpy as np\n",
    "import matplotlib.pyplot as plt\n",
    "from matplotlib.ticker import PercentFormatter\n",
    "\n",
    "data = myList\n",
    "plt.hist(data, weights=np.ones(len(data)) / len(data), bins = 10)\n",
    "\n",
    "plt.gca().yaxis.set_major_formatter(PercentFormatter(1))\n",
    "plt.show()"
   ]
  },
  {
   "cell_type": "code",
   "execution_count": null,
   "id": "ab11615b",
   "metadata": {},
   "outputs": [],
   "source": []
  }
 ],
 "metadata": {
  "kernelspec": {
   "display_name": "Python 3 (ipykernel)",
   "language": "python",
   "name": "python3"
  },
  "language_info": {
   "codemirror_mode": {
    "name": "ipython",
    "version": 3
   },
   "file_extension": ".py",
   "mimetype": "text/x-python",
   "name": "python",
   "nbconvert_exporter": "python",
   "pygments_lexer": "ipython3",
   "version": "3.9.7"
  }
 },
 "nbformat": 4,
 "nbformat_minor": 5
}
