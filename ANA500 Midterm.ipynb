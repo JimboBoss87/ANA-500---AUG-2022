{
 "cells": [
  {
   "cell_type": "markdown",
   "id": "38441561",
   "metadata": {},
   "source": [
    "# Midterm - ANA 500: Demetri Papamichalis"
   ]
  },
  {
   "cell_type": "markdown",
   "id": "1a8c02c0",
   "metadata": {},
   "source": [
    "# Question 4:"
   ]
  },
  {
   "cell_type": "code",
   "execution_count": 1,
   "id": "08faf94c",
   "metadata": {},
   "outputs": [
    {
     "name": "stdout",
     "output_type": "stream",
     "text": [
      "x = 2\n",
      "value of  2  +  2  is  4\n",
      "x =\n",
      "5 x = 5\n"
     ]
    }
   ],
   "source": [
    "x = 2 \n",
    "y = 3 \n",
    "\n",
    "print('x =', x) #a print 'x = ' and the value assigned to x\n",
    "print('value of ', x, ' + ', x, ' is ', (x + x) ) #b print text and variable value along with sum\n",
    "print('x =') #c print 'x ='\n",
    "print((x + y), 'x =', (y + x)) #d print the sum of variables x + y, the text 'x =' and sum of variables x + y "
   ]
  },
  {
   "cell_type": "code",
   "execution_count": null,
   "id": "0c4236fe",
   "metadata": {},
   "outputs": [],
   "source": []
  }
 ],
 "metadata": {
  "kernelspec": {
   "display_name": "Python 3 (ipykernel)",
   "language": "python",
   "name": "python3"
  },
  "language_info": {
   "codemirror_mode": {
    "name": "ipython",
    "version": 3
   },
   "file_extension": ".py",
   "mimetype": "text/x-python",
   "name": "python",
   "nbconvert_exporter": "python",
   "pygments_lexer": "ipython3",
   "version": "3.9.7"
  }
 },
 "nbformat": 4,
 "nbformat_minor": 5
}
