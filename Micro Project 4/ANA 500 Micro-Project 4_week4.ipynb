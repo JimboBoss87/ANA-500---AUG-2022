{
 "cells": [
  {
   "cell_type": "markdown",
   "id": "b7e8b74d",
   "metadata": {},
   "source": [
    "# Demetri Papamichalis\n",
    "## ANA 500 MicroProject 4\n",
    "## August 30th, 2022\n"
   ]
  },
  {
   "cell_type": "markdown",
   "id": "0fcdb088",
   "metadata": {},
   "source": [
    "### Import libraries"
   ]
  },
  {
   "cell_type": "code",
   "execution_count": 1,
   "id": "82057023",
   "metadata": {},
   "outputs": [
    {
     "name": "stdout",
     "output_type": "stream",
     "text": [
      "C:\\Users\\demetri.papamichalis\n"
     ]
    }
   ],
   "source": [
    "# gives current path directory\n",
    "from pathlib import Path\n",
    "print(Path.cwd())"
   ]
  },
  {
   "cell_type": "code",
   "execution_count": 2,
   "id": "89b4ddab",
   "metadata": {},
   "outputs": [
    {
     "name": "stdout",
     "output_type": "stream",
     "text": [
      "Requirement already satisfied: tensorflow in c:\\users\\demetri.papamichalis\\anaconda3\\lib\\site-packages (2.9.1)\n",
      "Requirement already satisfied: gast<=0.4.0,>=0.2.1 in c:\\users\\demetri.papamichalis\\anaconda3\\lib\\site-packages (from tensorflow) (0.4.0)\n",
      "Requirement already satisfied: grpcio<2.0,>=1.24.3 in c:\\users\\demetri.papamichalis\\anaconda3\\lib\\site-packages (from tensorflow) (1.42.0)\n",
      "Requirement already satisfied: six>=1.12.0 in c:\\users\\demetri.papamichalis\\anaconda3\\lib\\site-packages (from tensorflow) (1.16.0)\n",
      "Requirement already satisfied: keras-preprocessing>=1.1.1 in c:\\users\\demetri.papamichalis\\anaconda3\\lib\\site-packages (from tensorflow) (1.1.2)\n",
      "Requirement already satisfied: libclang>=13.0.0 in c:\\users\\demetri.papamichalis\\anaconda3\\lib\\site-packages (from tensorflow) (14.0.6)\n",
      "Requirement already satisfied: typing-extensions>=3.6.6 in c:\\users\\demetri.papamichalis\\anaconda3\\lib\\site-packages (from tensorflow) (4.1.1)\n",
      "Requirement already satisfied: numpy>=1.20 in c:\\users\\demetri.papamichalis\\anaconda3\\lib\\site-packages (from tensorflow) (1.21.5)\n",
      "Requirement already satisfied: packaging in c:\\users\\demetri.papamichalis\\anaconda3\\lib\\site-packages (from tensorflow) (21.3)\n",
      "Requirement already satisfied: setuptools in c:\\users\\demetri.papamichalis\\anaconda3\\lib\\site-packages (from tensorflow) (61.2.0)\n",
      "Requirement already satisfied: tensorflow-io-gcs-filesystem>=0.23.1 in c:\\users\\demetri.papamichalis\\anaconda3\\lib\\site-packages (from tensorflow) (0.26.0)\n",
      "Requirement already satisfied: flatbuffers<2,>=1.12 in c:\\users\\demetri.papamichalis\\anaconda3\\lib\\site-packages (from tensorflow) (1.12)\n",
      "Requirement already satisfied: absl-py>=1.0.0 in c:\\users\\demetri.papamichalis\\anaconda3\\lib\\site-packages (from tensorflow) (1.2.0)\n",
      "Requirement already satisfied: opt-einsum>=2.3.2 in c:\\users\\demetri.papamichalis\\anaconda3\\lib\\site-packages (from tensorflow) (3.3.0)\n",
      "Requirement already satisfied: tensorboard<2.10,>=2.9 in c:\\users\\demetri.papamichalis\\anaconda3\\lib\\site-packages (from tensorflow) (2.9.1)\n",
      "Requirement already satisfied: google-pasta>=0.1.1 in c:\\users\\demetri.papamichalis\\anaconda3\\lib\\site-packages (from tensorflow) (0.2.0)\n",
      "Requirement already satisfied: wrapt>=1.11.0 in c:\\users\\demetri.papamichalis\\anaconda3\\lib\\site-packages (from tensorflow) (1.12.1)\n",
      "Requirement already satisfied: protobuf<3.20,>=3.9.2 in c:\\users\\demetri.papamichalis\\anaconda3\\lib\\site-packages (from tensorflow) (3.19.1)\n",
      "Requirement already satisfied: keras<2.10.0,>=2.9.0rc0 in c:\\users\\demetri.papamichalis\\anaconda3\\lib\\site-packages (from tensorflow) (2.9.0)\n",
      "Requirement already satisfied: tensorflow-estimator<2.10.0,>=2.9.0rc0 in c:\\users\\demetri.papamichalis\\anaconda3\\lib\\site-packages (from tensorflow) (2.9.0)\n",
      "Requirement already satisfied: h5py>=2.9.0 in c:\\users\\demetri.papamichalis\\anaconda3\\lib\\site-packages (from tensorflow) (3.6.0)\n",
      "Requirement already satisfied: astunparse>=1.6.0 in c:\\users\\demetri.papamichalis\\anaconda3\\lib\\site-packages (from tensorflow) (1.6.3)\n",
      "Requirement already satisfied: termcolor>=1.1.0 in c:\\users\\demetri.papamichalis\\anaconda3\\lib\\site-packages (from tensorflow) (1.1.0)\n",
      "Requirement already satisfied: wheel<1.0,>=0.23.0 in c:\\users\\demetri.papamichalis\\anaconda3\\lib\\site-packages (from astunparse>=1.6.0->tensorflow) (0.37.1)\n",
      "Requirement already satisfied: tensorboard-data-server<0.7.0,>=0.6.0 in c:\\users\\demetri.papamichalis\\anaconda3\\lib\\site-packages (from tensorboard<2.10,>=2.9->tensorflow) (0.6.1)\n",
      "Requirement already satisfied: requests<3,>=2.21.0 in c:\\users\\demetri.papamichalis\\anaconda3\\lib\\site-packages (from tensorboard<2.10,>=2.9->tensorflow) (2.27.1)\n",
      "Requirement already satisfied: google-auth-oauthlib<0.5,>=0.4.1 in c:\\users\\demetri.papamichalis\\anaconda3\\lib\\site-packages (from tensorboard<2.10,>=2.9->tensorflow) (0.4.6)\n",
      "Requirement already satisfied: markdown>=2.6.8 in c:\\users\\demetri.papamichalis\\anaconda3\\lib\\site-packages (from tensorboard<2.10,>=2.9->tensorflow) (3.3.4)\n",
      "Requirement already satisfied: tensorboard-plugin-wit>=1.6.0 in c:\\users\\demetri.papamichalis\\anaconda3\\lib\\site-packages (from tensorboard<2.10,>=2.9->tensorflow) (1.8.1)\n",
      "Requirement already satisfied: google-auth<3,>=1.6.3 in c:\\users\\demetri.papamichalis\\anaconda3\\lib\\site-packages (from tensorboard<2.10,>=2.9->tensorflow) (1.33.0)\n",
      "Requirement already satisfied: werkzeug>=1.0.1 in c:\\users\\demetri.papamichalis\\anaconda3\\lib\\site-packages (from tensorboard<2.10,>=2.9->tensorflow) (2.0.3)\n",
      "Requirement already satisfied: rsa<5,>=3.1.4 in c:\\users\\demetri.papamichalis\\anaconda3\\lib\\site-packages (from google-auth<3,>=1.6.3->tensorboard<2.10,>=2.9->tensorflow) (4.7.2)\n",
      "Requirement already satisfied: cachetools<5.0,>=2.0.0 in c:\\users\\demetri.papamichalis\\anaconda3\\lib\\site-packages (from google-auth<3,>=1.6.3->tensorboard<2.10,>=2.9->tensorflow) (4.2.2)\n",
      "Requirement already satisfied: pyasn1-modules>=0.2.1 in c:\\users\\demetri.papamichalis\\anaconda3\\lib\\site-packages (from google-auth<3,>=1.6.3->tensorboard<2.10,>=2.9->tensorflow) (0.2.8)\n",
      "Requirement already satisfied: requests-oauthlib>=0.7.0 in c:\\users\\demetri.papamichalis\\anaconda3\\lib\\site-packages (from google-auth-oauthlib<0.5,>=0.4.1->tensorboard<2.10,>=2.9->tensorflow) (1.3.1)\n",
      "Requirement already satisfied: pyasn1<0.5.0,>=0.4.6 in c:\\users\\demetri.papamichalis\\anaconda3\\lib\\site-packages (from pyasn1-modules>=0.2.1->google-auth<3,>=1.6.3->tensorboard<2.10,>=2.9->tensorflow) (0.4.8)\n",
      "Requirement already satisfied: certifi>=2017.4.17 in c:\\users\\demetri.papamichalis\\anaconda3\\lib\\site-packages (from requests<3,>=2.21.0->tensorboard<2.10,>=2.9->tensorflow) (2021.10.8)\n",
      "Requirement already satisfied: urllib3<1.27,>=1.21.1 in c:\\users\\demetri.papamichalis\\anaconda3\\lib\\site-packages (from requests<3,>=2.21.0->tensorboard<2.10,>=2.9->tensorflow) (1.26.9)\n",
      "Requirement already satisfied: charset-normalizer~=2.0.0 in c:\\users\\demetri.papamichalis\\anaconda3\\lib\\site-packages (from requests<3,>=2.21.0->tensorboard<2.10,>=2.9->tensorflow) (2.0.4)\n",
      "Requirement already satisfied: idna<4,>=2.5 in c:\\users\\demetri.papamichalis\\anaconda3\\lib\\site-packages (from requests<3,>=2.21.0->tensorboard<2.10,>=2.9->tensorflow) (3.3)\n",
      "Requirement already satisfied: oauthlib>=3.0.0 in c:\\users\\demetri.papamichalis\\anaconda3\\lib\\site-packages (from requests-oauthlib>=0.7.0->google-auth-oauthlib<0.5,>=0.4.1->tensorboard<2.10,>=2.9->tensorflow) (3.2.0)\n",
      "Requirement already satisfied: pyparsing!=3.0.5,>=2.0.2 in c:\\users\\demetri.papamichalis\\anaconda3\\lib\\site-packages (from packaging->tensorflow) (3.0.4)\n",
      "Note: you may need to restart the kernel to use updated packages.\n"
     ]
    }
   ],
   "source": [
    "pip install tensorflow;"
   ]
  },
  {
   "cell_type": "code",
   "execution_count": 3,
   "id": "810fe97f",
   "metadata": {},
   "outputs": [],
   "source": [
    "import os\n",
    "import numpy as np\n",
    "import pandas as pd\n",
    "import matplotlib.pyplot as plt\n",
    "import sklearn"
   ]
  },
  {
   "cell_type": "code",
   "execution_count": 4,
   "id": "2366872d",
   "metadata": {
    "scrolled": true
   },
   "outputs": [],
   "source": [
    "from pandas import Series, DataFrame\n",
    "from pylab import rcParams\n",
    "from sklearn import preprocessing\n",
    "\n",
    "from tensorflow import keras\n",
    "from tensorflow.keras import layers\n",
    "\n",
    "import seaborn as sb\n",
    "sb.set_style('whitegrid')\n",
    "from collections import Counter\n",
    "\n",
    "%matplotlib inline\n",
    "rcParams['figure.figsize']=5,4\n",
    "sb.set_style('whitegrid')\n"
   ]
  },
  {
   "cell_type": "code",
   "execution_count": 6,
   "id": "a96eaee2",
   "metadata": {},
   "outputs": [
    {
     "name": "stdout",
     "output_type": "stream",
     "text": [
      "           flare  start.date start.time      peak       end  duration.s  \\\n",
      "0        2021213  2002-02-12   21:29:56  21:33:38  21:41:48         712   \n",
      "1        2021228  2002-02-12   21:44:08  21:45:06  21:48:56         288   \n",
      "2        2021332  2002-02-13   00:53:24  00:54:54  00:57:00         216   \n",
      "3        2021308  2002-02-13   04:22:52  04:23:50  04:26:56         244   \n",
      "4        2021310  2002-02-13   07:03:52  07:05:14  07:07:48         236   \n",
      "...          ...         ...        ...       ...       ...         ...   \n",
      "113937  16122603  2016-12-26   22:09:20  22:17:02  22:17:24         484   \n",
      "113938  16122604  2016-12-26   23:25:32  23:28:18  23:43:48        1096   \n",
      "113939  16122701  2016-12-27   08:33:08  08:39:06  08:39:40         392   \n",
      "113940  16122702  2016-12-27   12:21:24  12:21:30  12:30:04         520   \n",
      "113941  16122703  2016-12-27   12:35:40  12:37:14  12:39:00         200   \n",
      "\n",
      "        peak.c/s  total.counts energy.kev  x.pos.asec  y.pos.asec  radial  \\\n",
      "0            136        167304      12-25         592        -358     692   \n",
      "1              7          9504       6-12         604        -341     694   \n",
      "2             15         11448       6-12        -310         375     487   \n",
      "3             20         17400      12-25        -277         378     469   \n",
      "4            336        313392      25-50        -272         390     476   \n",
      "...          ...           ...        ...         ...         ...     ...   \n",
      "113937       152         75328        3-6           0           0       0   \n",
      "113938       304        142048        3-6           0           0       0   \n",
      "113939        80         32344        3-6           0           0       0   \n",
      "113940        24         17336       6-12         326         326     461   \n",
      "113941        48         11056       6-12         765         198     791   \n",
      "\n",
      "        active.region.ar flag.1 flag.2 flag.3 flag.4 flag.5  \n",
      "0                      0     A1     P1    NaN    NaN    NaN  \n",
      "1                   9811     A1     P1     PE     Q1    NaN  \n",
      "2                   9825     A1     P1    NaN    NaN    NaN  \n",
      "3                   9822     A1     P1    NaN    NaN    NaN  \n",
      "4                   9825     A1     GS     P1     PE     Q2  \n",
      "...                  ...    ...    ...    ...    ...    ...  \n",
      "113937                 0     A0     GE     NS     PE     Q2  \n",
      "113938                 0     A0     DR     NS     PE     Q2  \n",
      "113939                 0     A0     DF     NS     PE  Q3 SE  \n",
      "113940                 0     A0     DF     DR     P1  PE Q3  \n",
      "113941              2621     A0     DF     P1     PE     Q2  \n",
      "\n",
      "[113942 rows x 18 columns]\n"
     ]
    }
   ],
   "source": [
    "# read text file into pandas DataFrame\n",
    "data= pd.read_csv(\"C:\\\\Users\\demetri.papamichalis\\hessi.solar.flare.2002to2016.csv\")\n",
    "print(data)"
   ]
  },
  {
   "cell_type": "code",
   "execution_count": null,
   "id": "f38000f5",
   "metadata": {},
   "outputs": [],
   "source": [
    "# read text file into pandas DataFrame;\n",
    "#data= pd.read_csv(\"C:\\\\Users\\kopap\\hessi.solar.flare.2002to2016.csv\");\n",
    "#print(df);"
   ]
  },
  {
   "cell_type": "code",
   "execution_count": 7,
   "id": "3b6e0b6e",
   "metadata": {},
   "outputs": [
    {
     "data": {
      "text/plain": [
       "(113942, 18)"
      ]
     },
     "execution_count": 7,
     "metadata": {},
     "output_type": "execute_result"
    }
   ],
   "source": [
    "data.shape"
   ]
  },
  {
   "cell_type": "code",
   "execution_count": 17,
   "id": "caba3e48",
   "metadata": {},
   "outputs": [],
   "source": [
    "data.info;"
   ]
  },
  {
   "cell_type": "code",
   "execution_count": 19,
   "id": "70f6b407",
   "metadata": {},
   "outputs": [],
   "source": [
    "#check for null values\n",
    "data.isnull().sum();"
   ]
  },
  {
   "cell_type": "code",
   "execution_count": 8,
   "id": "075bde88",
   "metadata": {
    "scrolled": true
   },
   "outputs": [
    {
     "data": {
      "text/html": [
       "<div>\n",
       "<style scoped>\n",
       "    .dataframe tbody tr th:only-of-type {\n",
       "        vertical-align: middle;\n",
       "    }\n",
       "\n",
       "    .dataframe tbody tr th {\n",
       "        vertical-align: top;\n",
       "    }\n",
       "\n",
       "    .dataframe thead th {\n",
       "        text-align: right;\n",
       "    }\n",
       "</style>\n",
       "<table border=\"1\" class=\"dataframe\">\n",
       "  <thead>\n",
       "    <tr style=\"text-align: right;\">\n",
       "      <th></th>\n",
       "      <th>flare</th>\n",
       "      <th>duration.s</th>\n",
       "      <th>peak.c/s</th>\n",
       "      <th>total.counts</th>\n",
       "      <th>x.pos.asec</th>\n",
       "      <th>y.pos.asec</th>\n",
       "      <th>radial</th>\n",
       "      <th>active.region.ar</th>\n",
       "    </tr>\n",
       "  </thead>\n",
       "  <tbody>\n",
       "    <tr>\n",
       "      <th>count</th>\n",
       "      <td>1.139420e+05</td>\n",
       "      <td>113942.000000</td>\n",
       "      <td>113942.000000</td>\n",
       "      <td>1.139420e+05</td>\n",
       "      <td>113942.000000</td>\n",
       "      <td>113942.000000</td>\n",
       "      <td>113942.000000</td>\n",
       "      <td>113942.000000</td>\n",
       "    </tr>\n",
       "    <tr>\n",
       "      <th>mean</th>\n",
       "      <td>1.086459e+07</td>\n",
       "      <td>493.051728</td>\n",
       "      <td>212.321532</td>\n",
       "      <td>3.772013e+05</td>\n",
       "      <td>-9.752181</td>\n",
       "      <td>-43.129812</td>\n",
       "      <td>689.528892</td>\n",
       "      <td>979.922926</td>\n",
       "    </tr>\n",
       "    <tr>\n",
       "      <th>std</th>\n",
       "      <td>9.832864e+06</td>\n",
       "      <td>433.389295</td>\n",
       "      <td>833.776871</td>\n",
       "      <td>3.071203e+06</td>\n",
       "      <td>757.017401</td>\n",
       "      <td>404.547666</td>\n",
       "      <td>513.203089</td>\n",
       "      <td>1350.484625</td>\n",
       "    </tr>\n",
       "    <tr>\n",
       "      <th>min</th>\n",
       "      <td>2.021213e+06</td>\n",
       "      <td>8.000000</td>\n",
       "      <td>0.000000</td>\n",
       "      <td>8.000000e+00</td>\n",
       "      <td>-10012.000000</td>\n",
       "      <td>-10005.000000</td>\n",
       "      <td>0.000000</td>\n",
       "      <td>0.000000</td>\n",
       "    </tr>\n",
       "    <tr>\n",
       "      <th>25%</th>\n",
       "      <td>4.110734e+06</td>\n",
       "      <td>212.000000</td>\n",
       "      <td>28.000000</td>\n",
       "      <td>2.292000e+04</td>\n",
       "      <td>-704.000000</td>\n",
       "      <td>-249.000000</td>\n",
       "      <td>469.000000</td>\n",
       "      <td>0.000000</td>\n",
       "    </tr>\n",
       "    <tr>\n",
       "      <th>50%</th>\n",
       "      <td>1.112022e+07</td>\n",
       "      <td>364.000000</td>\n",
       "      <td>53.000000</td>\n",
       "      <td>5.857400e+04</td>\n",
       "      <td>0.000000</td>\n",
       "      <td>-75.000000</td>\n",
       "      <td>759.000000</td>\n",
       "      <td>687.000000</td>\n",
       "    </tr>\n",
       "    <tr>\n",
       "      <th>75%</th>\n",
       "      <td>1.403013e+07</td>\n",
       "      <td>628.000000</td>\n",
       "      <td>144.000000</td>\n",
       "      <td>1.794420e+05</td>\n",
       "      <td>706.000000</td>\n",
       "      <td>198.000000</td>\n",
       "      <td>946.000000</td>\n",
       "      <td>1543.000000</td>\n",
       "    </tr>\n",
       "    <tr>\n",
       "      <th>max</th>\n",
       "      <td>1.412161e+08</td>\n",
       "      <td>4444.000000</td>\n",
       "      <td>113156.000000</td>\n",
       "      <td>4.355501e+08</td>\n",
       "      <td>1002.000000</td>\n",
       "      <td>1012.000000</td>\n",
       "      <td>14154.000000</td>\n",
       "      <td>9999.000000</td>\n",
       "    </tr>\n",
       "  </tbody>\n",
       "</table>\n",
       "</div>"
      ],
      "text/plain": [
       "              flare     duration.s       peak.c/s  total.counts  \\\n",
       "count  1.139420e+05  113942.000000  113942.000000  1.139420e+05   \n",
       "mean   1.086459e+07     493.051728     212.321532  3.772013e+05   \n",
       "std    9.832864e+06     433.389295     833.776871  3.071203e+06   \n",
       "min    2.021213e+06       8.000000       0.000000  8.000000e+00   \n",
       "25%    4.110734e+06     212.000000      28.000000  2.292000e+04   \n",
       "50%    1.112022e+07     364.000000      53.000000  5.857400e+04   \n",
       "75%    1.403013e+07     628.000000     144.000000  1.794420e+05   \n",
       "max    1.412161e+08    4444.000000  113156.000000  4.355501e+08   \n",
       "\n",
       "          x.pos.asec     y.pos.asec         radial  active.region.ar  \n",
       "count  113942.000000  113942.000000  113942.000000     113942.000000  \n",
       "mean       -9.752181     -43.129812     689.528892        979.922926  \n",
       "std       757.017401     404.547666     513.203089       1350.484625  \n",
       "min    -10012.000000  -10005.000000       0.000000          0.000000  \n",
       "25%      -704.000000    -249.000000     469.000000          0.000000  \n",
       "50%         0.000000     -75.000000     759.000000        687.000000  \n",
       "75%       706.000000     198.000000     946.000000       1543.000000  \n",
       "max      1002.000000    1012.000000   14154.000000       9999.000000  "
      ]
     },
     "execution_count": 8,
     "metadata": {},
     "output_type": "execute_result"
    }
   ],
   "source": [
    "data.describe()\n"
   ]
  },
  {
   "cell_type": "code",
   "execution_count": 21,
   "id": "4ae7a234",
   "metadata": {},
   "outputs": [],
   "source": [
    "#donwload file to load in excel:\n",
    "#data.to_csv (r\"C:\\\\Users\\kopap\\hessi.solar.flare.2002to2016.csv\", index = False)"
   ]
  },
  {
   "cell_type": "code",
   "execution_count": 17,
   "id": "384c56aa",
   "metadata": {},
   "outputs": [],
   "source": [
    "# Attributes list:\n",
    "data.__dir__();"
   ]
  },
  {
   "cell_type": "code",
   "execution_count": 26,
   "id": "bd2f8a81",
   "metadata": {},
   "outputs": [],
   "source": [
    "# check types of variables:\n",
    "data.dtypes;\n"
   ]
  },
  {
   "cell_type": "code",
   "execution_count": 28,
   "id": "03a04d70",
   "metadata": {},
   "outputs": [],
   "source": [
    "# show variables/columns:\n",
    "data.columns;"
   ]
  },
  {
   "cell_type": "code",
   "execution_count": 30,
   "id": "03c24dd0",
   "metadata": {},
   "outputs": [],
   "source": [
    "# Search for \"Nan\" elements in dataset:\n",
    "data.isnull().values.any();"
   ]
  },
  {
   "cell_type": "code",
   "execution_count": 32,
   "id": "adab52ef",
   "metadata": {},
   "outputs": [],
   "source": [
    "data[data.isnull().any(axis=1)];"
   ]
  },
  {
   "cell_type": "code",
   "execution_count": 34,
   "id": "ed5f69a9",
   "metadata": {},
   "outputs": [],
   "source": [
    "# find total number of missing values we have:\n",
    "data.isnull().sum();"
   ]
  },
  {
   "cell_type": "code",
   "execution_count": 36,
   "id": "6aa1e4df",
   "metadata": {},
   "outputs": [],
   "source": [
    "# Check for duplicates:\n",
    "data.duplicated();"
   ]
  },
  {
   "cell_type": "code",
   "execution_count": 38,
   "id": "372ac27a",
   "metadata": {},
   "outputs": [],
   "source": [
    "# Summary statistics:\n",
    "data.describe();"
   ]
  },
  {
   "cell_type": "markdown",
   "id": "79be76af",
   "metadata": {},
   "source": [
    "# Solar flares occurence frequency (per year)"
   ]
  },
  {
   "cell_type": "code",
   "execution_count": 9,
   "id": "b042c8cd",
   "metadata": {},
   "outputs": [
    {
     "name": "stdout",
     "output_type": "stream",
     "text": [
      "0         2002-02-12\n",
      "1         2002-02-12\n",
      "2         2002-02-13\n",
      "3         2002-02-13\n",
      "4         2002-02-13\n",
      "             ...    \n",
      "113937    2016-12-26\n",
      "113938    2016-12-26\n",
      "113939    2016-12-27\n",
      "113940    2016-12-27\n",
      "113941    2016-12-27\n",
      "Name: start.date, Length: 113942, dtype: object\n"
     ]
    }
   ],
   "source": [
    "# date-data to be converted to year\n",
    "dates = data.loc[:,'start.date']\n",
    "print(dates);"
   ]
  },
  {
   "cell_type": "code",
   "execution_count": 10,
   "id": "d2133316",
   "metadata": {
    "scrolled": true
   },
   "outputs": [
    {
     "name": "stdout",
     "output_type": "stream",
     "text": [
      "0         2002\n",
      "1         2002\n",
      "2         2002\n",
      "3         2002\n",
      "4         2002\n",
      "          ... \n",
      "113937    2016\n",
      "113938    2016\n",
      "113939    2016\n",
      "113940    2016\n",
      "113941    2016\n",
      "Name: start.date, Length: 113942, dtype: int64\n"
     ]
    }
   ],
   "source": [
    "# convert dates to only years:\n",
    "years = pd.to_datetime(data['start.date']).dt.year\n",
    "print(years);"
   ]
  },
  {
   "cell_type": "code",
   "execution_count": 11,
   "id": "3a7e47c9",
   "metadata": {},
   "outputs": [
    {
     "data": {
      "image/png": "[encoded data removed]",
      "text/plain": [
       "<Figure size 864x720 with 1 Axes>"
      ]
     },
     "metadata": {},
     "output_type": "display_data"
    }
   ],
   "source": [
    "data.groupby([years])['total.counts'].count().plot(kind='bar',figsize=(12,10),color=\"grey\",edgecolor=\"brown\",title='YEARLY NUMBER OF EVENTS')\n",
    "plt.show()"
   ]
  },
  {
   "cell_type": "code",
   "execution_count": 55,
   "id": "521c8eb8",
   "metadata": {},
   "outputs": [],
   "source": [
    "#extract flare counts"
   ]
  },
  {
   "cell_type": "code",
   "execution_count": 12,
   "id": "cb87fbe5",
   "metadata": {},
   "outputs": [
    {
     "name": "stdout",
     "output_type": "stream",
     "text": [
      "0         167304\n",
      "1           9504\n",
      "2          11448\n",
      "3          17400\n",
      "4         313392\n",
      "           ...  \n",
      "113937     75328\n",
      "113938    142048\n",
      "113939     32344\n",
      "113940     17336\n",
      "113941     11056\n",
      "Name: total.counts, Length: 113942, dtype: int64\n"
     ]
    }
   ],
   "source": [
    "#like this....\n",
    "counts0 = data['total.counts'];\n",
    "print(counts0);"
   ]
  },
  {
   "cell_type": "code",
   "execution_count": 13,
   "id": "9b62d822",
   "metadata": {
    "scrolled": true
   },
   "outputs": [
    {
     "name": "stdout",
     "output_type": "stream",
     "text": [
      "0         167304\n",
      "1           9504\n",
      "2          11448\n",
      "3          17400\n",
      "4         313392\n",
      "           ...  \n",
      "113937     75328\n",
      "113938    142048\n",
      "113939     32344\n",
      "113940     17336\n",
      "113941     11056\n",
      "Name: total.counts, Length: 113942, dtype: int64\n"
     ]
    }
   ],
   "source": [
    "# or like this...\n",
    "counts = data.loc[:,'total.counts']\n",
    "print(counts);"
   ]
  },
  {
   "cell_type": "code",
   "execution_count": 14,
   "id": "1e4c0a90",
   "metadata": {},
   "outputs": [],
   "source": [
    "# Let's make sure 'date' is actually a date in pandas\n",
    "data[\"start.date\"] = pd.to_datetime(data[\"start.date\"])"
   ]
  },
  {
   "cell_type": "code",
   "execution_count": 15,
   "id": "4f39b189",
   "metadata": {},
   "outputs": [],
   "source": [
    "date = data[\"start.date\"]"
   ]
  },
  {
   "cell_type": "code",
   "execution_count": 16,
   "id": "370a5303",
   "metadata": {
    "scrolled": true
   },
   "outputs": [
    {
     "data": {
      "image/png": "[encoded data removed]",
      "text/plain": [
       "<Figure size 576x432 with 1 Axes>"
      ]
     },
     "metadata": {},
     "output_type": "display_data"
    }
   ],
   "source": [
    "# time series in full dates\n",
    "fig, ax = plt.subplots(figsize=(8, 6))\n",
    "ax.plot(date, counts);"
   ]
  },
  {
   "cell_type": "code",
   "execution_count": 17,
   "id": "589eaa22",
   "metadata": {},
   "outputs": [
    {
     "data": {
      "image/png": "[encoded data removed]",
      "text/plain": [
       "<Figure size 576x432 with 1 Axes>"
      ]
     },
     "metadata": {},
     "output_type": "display_data"
    }
   ],
   "source": [
    "# time series in years only (no months, days)\n",
    "fig, ax = plt.subplots(figsize=(8, 6))\n",
    "ax.plot(years, counts);"
   ]
  },
  {
   "cell_type": "code",
   "execution_count": 18,
   "id": "50cdddad",
   "metadata": {
    "scrolled": true
   },
   "outputs": [
    {
     "data": {
      "image/png": "[encoded data removed]",
      "text/plain": [
       "<Figure size 720x576 with 1 Axes>"
      ]
     },
     "metadata": {},
     "output_type": "display_data"
    }
   ],
   "source": [
    "from matplotlib import pyplot\n",
    "counts.groupby([years]).plot(figsize=(10, 8));\n",
    "pyplot.show();"
   ]
  },
  {
   "cell_type": "code",
   "execution_count": 19,
   "id": "4d789a46",
   "metadata": {
    "scrolled": false
   },
   "outputs": [
    {
     "data": {
      "image/png": "[encoded data removed]",
      "text/plain": [
       "<Figure size 720x576 with 1 Axes>"
      ]
     },
     "metadata": {},
     "output_type": "display_data"
    }
   ],
   "source": [
    "counts.groupby([years]).plot(style='k.',figsize=(10, 8))\n",
    "pyplot.show()\n"
   ]
  },
  {
   "cell_type": "code",
   "execution_count": 20,
   "id": "2f3f2412",
   "metadata": {},
   "outputs": [
    {
     "name": "stdout",
     "output_type": "stream",
     "text": [
      "['flare', 'start.date', 'start.time', 'peak', 'end', 'duration.s', 'peak.c/s', 'total.counts', 'energy.kev', 'x.pos.asec', 'y.pos.asec', 'radial', 'active.region.ar', 'flag.1', 'flag.2', 'flag.3', 'flag.4', 'flag.5']\n",
      "113943\n"
     ]
    }
   ],
   "source": [
    "\n",
    "my_path = 'C:\\\\Users\\demetri.papamichalis'\n",
    "fname = os.path.join(my_path, \"hessi.solar.flare.2002to2016.csv\")\n",
    "\n",
    "with open(fname) as f:\n",
    "    data = f.read()\n",
    "\n",
    "lines = data.split(\"\\n\")\n",
    "header = lines[0].split(\",\")\n",
    "lines = lines[1:]\n",
    "print(header)\n",
    "print(len(lines))"
   ]
  },
  {
   "cell_type": "code",
   "execution_count": 21,
   "id": "d93ac727",
   "metadata": {},
   "outputs": [],
   "source": [
    "counts = np.zeros((len(lines),))\n",
    "raw_data = np.zeros((len(lines), len(header) - 1))"
   ]
  },
  {
   "cell_type": "markdown",
   "id": "7f992a72",
   "metadata": {},
   "source": [
    "Compute the number of samples for each data split"
   ]
  },
  {
   "cell_type": "code",
   "execution_count": 22,
   "id": "4cbe425d",
   "metadata": {},
   "outputs": [
    {
     "name": "stdout",
     "output_type": "stream",
     "text": [
      "num_train_samples: 56971\n",
      "num_val_samples: 28485\n",
      "num_test_samples: 28487\n"
     ]
    }
   ],
   "source": [
    "num_train_samples = int(0.5 * len(raw_data))\n",
    "num_val_samples = int(0.25 * len(raw_data))\n",
    "num_test_samples = len(counts) - num_train_samples - num_val_samples\n",
    "print(\"num_train_samples:\", num_train_samples)\n",
    "print(\"num_val_samples:\", num_val_samples)\n",
    "print(\"num_test_samples:\", num_test_samples)"
   ]
  },
  {
   "cell_type": "markdown",
   "id": "d4daf357",
   "metadata": {},
   "source": [
    "Normalize data"
   ]
  },
  {
   "cell_type": "code",
   "execution_count": 23,
   "id": "852cf9b2",
   "metadata": {},
   "outputs": [],
   "source": [
    "mean = raw_data[:num_train_samples].mean(axis=0)\n",
    "raw_data -= mean\n",
    "std = raw_data[:num_train_samples].std(axis=0)+0.000001\n",
    "raw_data /= std"
   ]
  },
  {
   "cell_type": "code",
   "execution_count": 24,
   "id": "95aaaf14",
   "metadata": {},
   "outputs": [
    {
     "name": "stdout",
     "output_type": "stream",
     "text": [
      "[0, 1, 2] 3\n",
      "[1, 2, 3] 4\n",
      "[2, 3, 4] 5\n",
      "[3, 4, 5] 6\n",
      "[4, 5, 6] 7\n"
     ]
    }
   ],
   "source": [
    "int_sequence = np.arange(10)\n",
    "dummy_dataset = keras.utils.timeseries_dataset_from_array(\n",
    "    data=int_sequence[:-3],\n",
    "    targets=int_sequence[3:],\n",
    "    sequence_length=3,\n",
    "    batch_size=2,\n",
    ")\n",
    "\n",
    "for inputs, targets in dummy_dataset:\n",
    "    for i in range(inputs.shape[0]):\n",
    "        print([int(x) for x in inputs[i]], int(targets[i]))"
   ]
  },
  {
   "cell_type": "markdown",
   "id": "6e0a25e6",
   "metadata": {},
   "source": [
    "# Instantiate datasets for training, validation and test"
   ]
  },
  {
   "cell_type": "code",
   "execution_count": 25,
   "id": "9e8188d6",
   "metadata": {},
   "outputs": [],
   "source": [
    "sampling_rate = 6\n",
    "sequence_length = 120\n",
    "delay = sampling_rate * (sequence_length + 24 - 1)\n",
    "batch_size = 256\n",
    "\n",
    "train_dataset = keras.utils.timeseries_dataset_from_array(\n",
    "    raw_data[:-delay],\n",
    "    targets=counts[delay:],\n",
    "    sampling_rate=sampling_rate,\n",
    "    sequence_length=sequence_length,\n",
    "    shuffle=True,\n",
    "    batch_size=batch_size,\n",
    "    start_index=0,\n",
    "    end_index=num_train_samples)\n",
    "\n",
    "val_dataset = keras.utils.timeseries_dataset_from_array(\n",
    "    raw_data[:-delay],\n",
    "    targets=counts[delay:],\n",
    "    sampling_rate=sampling_rate,\n",
    "    sequence_length=sequence_length,\n",
    "    shuffle=True,\n",
    "    batch_size=batch_size,\n",
    "    start_index=num_train_samples,\n",
    "    end_index=num_train_samples + num_val_samples)\n",
    "\n",
    "test_dataset = keras.utils.timeseries_dataset_from_array(\n",
    "    raw_data[:-delay],\n",
    "    targets=counts[delay:],\n",
    "    sampling_rate=sampling_rate,\n",
    "    sequence_length=sequence_length,\n",
    "    shuffle=True,\n",
    "    batch_size=batch_size,\n",
    "    start_index=num_train_samples + num_val_samples)"
   ]
  },
  {
   "cell_type": "markdown",
   "id": "09b4d5cf",
   "metadata": {},
   "source": [
    "output for a dataset"
   ]
  },
  {
   "cell_type": "code",
   "execution_count": 26,
   "id": "576f64ef",
   "metadata": {},
   "outputs": [
    {
     "name": "stdout",
     "output_type": "stream",
     "text": [
      "samples shape: (256, 120, 17)\n",
      "targets shape: (256,)\n"
     ]
    }
   ],
   "source": [
    "for samples, targets in train_dataset:\n",
    "    print(\"samples shape:\", samples.shape)\n",
    "    print(\"targets shape:\", targets.shape)\n",
    "    break"
   ]
  },
  {
   "cell_type": "markdown",
   "id": "435cd017",
   "metadata": {},
   "source": [
    "### Compute a common-sense baseline"
   ]
  },
  {
   "cell_type": "code",
   "execution_count": 27,
   "id": "d869ea87",
   "metadata": {},
   "outputs": [
    {
     "name": "stdout",
     "output_type": "stream",
     "text": [
      "Validation MAE: 0.00\n",
      "Test MAE: 0.00\n"
     ]
    }
   ],
   "source": [
    "def evaluate_naive_method(dataset):\n",
    "    total_abs_err = 0.\n",
    "    samples_seen = 0\n",
    "    for samples, targets in dataset:\n",
    "        preds = samples[:, -1, 1] * std[1] + mean[1]\n",
    "        total_abs_err += np.sum(np.abs(preds - targets))\n",
    "        samples_seen += samples.shape[0]\n",
    "    return total_abs_err / samples_seen\n",
    "\n",
    "print(f\"Validation MAE: {evaluate_naive_method(val_dataset):.2f}\")\n",
    "print(f\"Test MAE: {evaluate_naive_method(test_dataset):.2f}\")"
   ]
  },
  {
   "cell_type": "markdown",
   "id": "23412c6f",
   "metadata": {},
   "source": [
    "## 1) Machine-learning model\n",
    "\n",
    "### train and evaluate model"
   ]
  },
  {
   "cell_type": "code",
   "execution_count": 31,
   "id": "78090cc2",
   "metadata": {},
   "outputs": [
    {
     "name": "stdout",
     "output_type": "stream",
     "text": [
      "Epoch 1/10\n",
      "220/220 [==============================] - 3s 12ms/step - loss: 0.0000e+00 - mae: 0.0000e+00 - val_loss: 0.0000e+00 - val_mae: 0.0000e+00\n",
      "Epoch 2/10\n",
      "220/220 [==============================] - 2s 11ms/step - loss: 0.0000e+00 - mae: 0.0000e+00 - val_loss: 0.0000e+00 - val_mae: 0.0000e+00\n",
      "Epoch 3/10\n",
      "220/220 [==============================] - 2s 11ms/step - loss: 0.0000e+00 - mae: 0.0000e+00 - val_loss: 0.0000e+00 - val_mae: 0.0000e+00\n",
      "Epoch 4/10\n",
      "220/220 [==============================] - 3s 12ms/step - loss: 0.0000e+00 - mae: 0.0000e+00 - val_loss: 0.0000e+00 - val_mae: 0.0000e+00\n",
      "Epoch 5/10\n",
      "220/220 [==============================] - 3s 13ms/step - loss: 0.0000e+00 - mae: 0.0000e+00 - val_loss: 0.0000e+00 - val_mae: 0.0000e+00\n",
      "Epoch 6/10\n",
      "220/220 [==============================] - 3s 12ms/step - loss: 0.0000e+00 - mae: 0.0000e+00 - val_loss: 0.0000e+00 - val_mae: 0.0000e+00\n",
      "Epoch 7/10\n",
      "220/220 [==============================] - 3s 13ms/step - loss: 0.0000e+00 - mae: 0.0000e+00 - val_loss: 0.0000e+00 - val_mae: 0.0000e+00\n",
      "Epoch 8/10\n",
      "220/220 [==============================] - 5s 20ms/step - loss: 0.0000e+00 - mae: 0.0000e+00 - val_loss: 0.0000e+00 - val_mae: 0.0000e+00\n",
      "Epoch 9/10\n",
      "220/220 [==============================] - 4s 18ms/step - loss: 0.0000e+00 - mae: 0.0000e+00 - val_loss: 0.0000e+00 - val_mae: 0.0000e+00\n",
      "Epoch 10/10\n",
      "220/220 [==============================] - 5s 21ms/step - loss: 0.0000e+00 - mae: 0.0000e+00 - val_loss: 0.0000e+00 - val_mae: 0.0000e+00\n",
      "106/106 [==============================] - 1s 11ms/step - loss: 0.0000e+00 - mae: 0.0000e+00\n",
      "Test MAE: 0.00\n"
     ]
    }
   ],
   "source": [
    "inputs = keras.Input(shape=(sequence_length, raw_data.shape[-1]))\n",
    "x = layers.Flatten()(inputs)\n",
    "x = layers.Dense(16, activation=\"relu\")(x)\n",
    "outputs = layers.Dense(1)(x)\n",
    "model = keras.Model(inputs, outputs)\n",
    "\n",
    "callbacks = [keras.callbacks.ModelCheckpoint(\"solar_flare.keras\",save_best_only=True)]\n",
    "\n",
    "opt = keras.optimizers.Adam(0.001, clipnorm=1)\n",
    "model.compile(loss=[\"mse\", \"mse\"], loss_weights=[0.9, 0.1], optimizer=opt)\n",
    "\n",
    "model.compile(optimizer=\"rmsprop\", loss=\"mse\", metrics=[\"mae\"])\n",
    "history = model.fit(train_dataset,\n",
    "                    epochs=10,\n",
    "                    validation_data=val_dataset,\n",
    "                    callbacks=callbacks)\n",
    "\n",
    "model = keras.models.load_model(\"solar_flare.keras\")\n",
    "print(f\"Test MAE: {model.evaluate(test_dataset)[1]:.2f}\")"
   ]
  },
  {
   "cell_type": "code",
   "execution_count": 29,
   "id": "3bdd7008",
   "metadata": {},
   "outputs": [
    {
     "data": {
      "image/png": "[encoded data removed]",
      "text/plain": [
       "<Figure size 360x288 with 1 Axes>"
      ]
     },
     "metadata": {},
     "output_type": "display_data"
    }
   ],
   "source": [
    "# plot results\n",
    "loss = history.history[\"mae\"]\n",
    "val_loss = history.history[\"val_mae\"]\n",
    "epochs = range(1, len(loss) + 1)\n",
    "plt.figure()\n",
    "plt.plot(epochs, loss, \"bo\", label=\"Training MAE\")\n",
    "plt.plot(epochs, val_loss, \"b\", label=\"Validation MAE\")\n",
    "plt.title(\"Training and validation MAE\")\n",
    "plt.legend()\n",
    "plt.show()"
   ]
  },
  {
   "cell_type": "markdown",
   "id": "32cb35bd",
   "metadata": {},
   "source": [
    "## 2) 1D convolutional model"
   ]
  },
  {
   "cell_type": "code",
   "execution_count": 32,
   "id": "8df57fdd",
   "metadata": {},
   "outputs": [
    {
     "name": "stdout",
     "output_type": "stream",
     "text": [
      "Epoch 1/10\n",
      "219/220 [============================>.] - ETA: 0s - loss: 0.0000e+00 - mae: 0.0000e+00"
     ]
    },
    {
     "name": "stderr",
     "output_type": "stream",
     "text": [
      "WARNING:absl:Found untraced functions such as _jit_compiled_convolution_op, _jit_compiled_convolution_op, _jit_compiled_convolution_op while saving (showing 3 of 3). These functions will not be directly callable after loading.\n"
     ]
    },
    {
     "name": "stdout",
     "output_type": "stream",
     "text": [
      "INFO:tensorflow:Assets written to: hessi.solar.flare.2002to2016\\assets\n"
     ]
    },
    {
     "name": "stderr",
     "output_type": "stream",
     "text": [
      "INFO:tensorflow:Assets written to: hessi.solar.flare.2002to2016\\assets\n"
     ]
    },
    {
     "name": "stdout",
     "output_type": "stream",
     "text": [
      "220/220 [==============================] - 17s 69ms/step - loss: 0.0000e+00 - mae: 0.0000e+00 - val_loss: 0.0000e+00 - val_mae: 0.0000e+00\n",
      "Epoch 2/10\n",
      "220/220 [==============================] - 11s 48ms/step - loss: 0.0000e+00 - mae: 0.0000e+00 - val_loss: 0.0000e+00 - val_mae: 0.0000e+00\n",
      "Epoch 3/10\n",
      "220/220 [==============================] - 11s 51ms/step - loss: 0.0000e+00 - mae: 0.0000e+00 - val_loss: 0.0000e+00 - val_mae: 0.0000e+00\n",
      "Epoch 4/10\n",
      "220/220 [==============================] - 10s 46ms/step - loss: 0.0000e+00 - mae: 0.0000e+00 - val_loss: 0.0000e+00 - val_mae: 0.0000e+00\n",
      "Epoch 5/10\n",
      "220/220 [==============================] - 11s 48ms/step - loss: 0.0000e+00 - mae: 0.0000e+00 - val_loss: 0.0000e+00 - val_mae: 0.0000e+00\n",
      "Epoch 6/10\n",
      "220/220 [==============================] - 10s 47ms/step - loss: 0.0000e+00 - mae: 0.0000e+00 - val_loss: 0.0000e+00 - val_mae: 0.0000e+00\n",
      "Epoch 7/10\n",
      "220/220 [==============================] - 10s 43ms/step - loss: 0.0000e+00 - mae: 0.0000e+00 - val_loss: 0.0000e+00 - val_mae: 0.0000e+00\n",
      "Epoch 8/10\n",
      "220/220 [==============================] - 10s 45ms/step - loss: 0.0000e+00 - mae: 0.0000e+00 - val_loss: 0.0000e+00 - val_mae: 0.0000e+00\n",
      "Epoch 9/10\n",
      "220/220 [==============================] - 11s 50ms/step - loss: 0.0000e+00 - mae: 0.0000e+00 - val_loss: 0.0000e+00 - val_mae: 0.0000e+00\n",
      "Epoch 10/10\n",
      "220/220 [==============================] - 14s 64ms/step - loss: 0.0000e+00 - mae: 0.0000e+00 - val_loss: 0.0000e+00 - val_mae: 0.0000e+00\n",
      "106/106 [==============================] - 2s 15ms/step - loss: 0.0000e+00 - mae: 0.0000e+00\n",
      "Test MAE: 0.00\n"
     ]
    }
   ],
   "source": [
    "inputs = keras.Input(shape=(sequence_length, raw_data.shape[-1]))\n",
    "x = layers.Conv1D(8, 24, activation=\"relu\")(inputs)\n",
    "x = layers.MaxPooling1D(2)(x)\n",
    "x = layers.Conv1D(8, 12, activation=\"relu\")(x)\n",
    "x = layers.MaxPooling1D(2)(x)\n",
    "x = layers.Conv1D(8, 6, activation=\"relu\")(x)\n",
    "x = layers.GlobalAveragePooling1D()(x)\n",
    "outputs = layers.Dense(1)(x)\n",
    "model = keras.Model(inputs, outputs)\n",
    "\n",
    "callbacks = [\n",
    "    keras.callbacks.ModelCheckpoint(\"hessi.solar.flare.2002to2016\",\n",
    "                                    save_best_only=True)\n",
    "]\n",
    "model.compile(optimizer=\"rmsprop\", loss=\"mse\", metrics=[\"mae\"])\n",
    "history = model.fit(train_dataset,\n",
    "                    epochs=10,\n",
    "                    validation_data=val_dataset,\n",
    "                    callbacks=callbacks)\n",
    "\n",
    "model = keras.models.load_model(\"hessi.solar.flare.2002to2016\")\n",
    "print(f\"Test MAE: {model.evaluate(test_dataset)[1]:.2f}\")"
   ]
  },
  {
   "cell_type": "code",
   "execution_count": 33,
   "id": "286dc3ed",
   "metadata": {},
   "outputs": [
    {
     "data": {
      "image/png": "[encoded data removed]",
      "text/plain": [
       "<Figure size 360x288 with 1 Axes>"
      ]
     },
     "metadata": {},
     "output_type": "display_data"
    }
   ],
   "source": [
    "# plot results\n",
    "loss = history.history[\"mae\"]\n",
    "val_loss = history.history[\"val_mae\"]\n",
    "epochs = range(1, len(loss) + 1)\n",
    "plt.figure()\n",
    "plt.plot(epochs, loss, \"bo\", label=\"Training MAE\")\n",
    "plt.plot(epochs, val_loss, \"b\", label=\"Validation MAE\")\n",
    "plt.title(\"Training and validation MAE\")\n",
    "plt.legend()\n",
    "plt.show()"
   ]
  },
  {
   "cell_type": "markdown",
   "id": "70b843a9",
   "metadata": {},
   "source": [
    "### LSTM - based model"
   ]
  },
  {
   "cell_type": "code",
   "execution_count": 34,
   "id": "3ad4aa1f",
   "metadata": {},
   "outputs": [
    {
     "name": "stdout",
     "output_type": "stream",
     "text": [
      "Epoch 1/10\n"
     ]
    },
    {
     "ename": "ValueError",
     "evalue": "in user code:\n\n    File \"C:\\Users\\demetri.papamichalis\\anaconda3\\lib\\site-packages\\keras\\engine\\training.py\", line 1051, in train_function  *\n        return step_function(self, iterator)\n    File \"C:\\Users\\demetri.papamichalis\\anaconda3\\lib\\site-packages\\keras\\engine\\training.py\", line 1040, in step_function  **\n        outputs = model.distribute_strategy.run(run_step, args=(data,))\n    File \"C:\\Users\\demetri.papamichalis\\anaconda3\\lib\\site-packages\\keras\\engine\\training.py\", line 1030, in run_step  **\n        outputs = model.train_step(data)\n    File \"C:\\Users\\demetri.papamichalis\\anaconda3\\lib\\site-packages\\keras\\engine\\training.py\", line 889, in train_step\n        y_pred = self(x, training=True)\n    File \"C:\\Users\\demetri.papamichalis\\anaconda3\\lib\\site-packages\\keras\\utils\\traceback_utils.py\", line 67, in error_handler\n        raise e.with_traceback(filtered_tb) from None\n    File \"C:\\Users\\demetri.papamichalis\\anaconda3\\lib\\site-packages\\keras\\engine\\input_spec.py\", line 264, in assert_input_compatibility\n        raise ValueError(f'Input {input_index} of layer \"{layer_name}\" is '\n\n    ValueError: Input 0 of layer \"model_4\" is incompatible with the layer: expected shape=(None, 120, 113943), found shape=(None, None, 17)\n",
     "output_type": "error",
     "traceback": [
      "\u001b[1;31m---------------------------------------------------------------------------\u001b[0m",
      "\u001b[1;31mValueError\u001b[0m                                Traceback (most recent call last)",
      "Input \u001b[1;32mIn [34]\u001b[0m, in \u001b[0;36m<cell line: 11>\u001b[1;34m()\u001b[0m\n\u001b[0;32m      6\u001b[0m callbacks \u001b[38;5;241m=\u001b[39m [\n\u001b[0;32m      7\u001b[0m     keras\u001b[38;5;241m.\u001b[39mcallbacks\u001b[38;5;241m.\u001b[39mModelCheckpoint(\u001b[38;5;124m\"\u001b[39m\u001b[38;5;124mhessi.solar.flare.2002to2016\u001b[39m\u001b[38;5;124m\"\u001b[39m,\n\u001b[0;32m      8\u001b[0m                                     save_best_only\u001b[38;5;241m=\u001b[39m\u001b[38;5;28;01mTrue\u001b[39;00m)\n\u001b[0;32m      9\u001b[0m ]\n\u001b[0;32m     10\u001b[0m model\u001b[38;5;241m.\u001b[39mcompile(optimizer\u001b[38;5;241m=\u001b[39m\u001b[38;5;124m\"\u001b[39m\u001b[38;5;124mrmsprop\u001b[39m\u001b[38;5;124m\"\u001b[39m, loss\u001b[38;5;241m=\u001b[39m\u001b[38;5;124m\"\u001b[39m\u001b[38;5;124mmse\u001b[39m\u001b[38;5;124m\"\u001b[39m, metrics\u001b[38;5;241m=\u001b[39m[\u001b[38;5;124m\"\u001b[39m\u001b[38;5;124mmae\u001b[39m\u001b[38;5;124m\"\u001b[39m])\n\u001b[1;32m---> 11\u001b[0m history \u001b[38;5;241m=\u001b[39m \u001b[43mmodel\u001b[49m\u001b[38;5;241;43m.\u001b[39;49m\u001b[43mfit\u001b[49m\u001b[43m(\u001b[49m\u001b[43mtrain_dataset\u001b[49m\u001b[43m,\u001b[49m\n\u001b[0;32m     12\u001b[0m \u001b[43m                    \u001b[49m\u001b[43mepochs\u001b[49m\u001b[38;5;241;43m=\u001b[39;49m\u001b[38;5;241;43m10\u001b[39;49m\u001b[43m,\u001b[49m\n\u001b[0;32m     13\u001b[0m \u001b[43m                    \u001b[49m\u001b[43mvalidation_data\u001b[49m\u001b[38;5;241;43m=\u001b[39;49m\u001b[43mval_dataset\u001b[49m\u001b[43m,\u001b[49m\n\u001b[0;32m     14\u001b[0m \u001b[43m                    \u001b[49m\u001b[43mcallbacks\u001b[49m\u001b[38;5;241;43m=\u001b[39;49m\u001b[43mcallbacks\u001b[49m\u001b[43m)\u001b[49m\n\u001b[0;32m     16\u001b[0m model \u001b[38;5;241m=\u001b[39m keras\u001b[38;5;241m.\u001b[39mmodels\u001b[38;5;241m.\u001b[39mload_model(\u001b[38;5;124m\"\u001b[39m\u001b[38;5;124mhessi.solar.flare.2002to2016\u001b[39m\u001b[38;5;124m\"\u001b[39m)\n",
      "File \u001b[1;32m~\\anaconda3\\lib\\site-packages\\keras\\utils\\traceback_utils.py:67\u001b[0m, in \u001b[0;36mfilter_traceback.<locals>.error_handler\u001b[1;34m(*args, **kwargs)\u001b[0m\n\u001b[0;32m     65\u001b[0m \u001b[38;5;28;01mexcept\u001b[39;00m \u001b[38;5;167;01mException\u001b[39;00m \u001b[38;5;28;01mas\u001b[39;00m e:  \u001b[38;5;66;03m# pylint: disable=broad-except\u001b[39;00m\n\u001b[0;32m     66\u001b[0m   filtered_tb \u001b[38;5;241m=\u001b[39m _process_traceback_frames(e\u001b[38;5;241m.\u001b[39m__traceback__)\n\u001b[1;32m---> 67\u001b[0m   \u001b[38;5;28;01mraise\u001b[39;00m e\u001b[38;5;241m.\u001b[39mwith_traceback(filtered_tb) \u001b[38;5;28;01mfrom\u001b[39;00m \u001b[38;5;28mNone\u001b[39m\n\u001b[0;32m     68\u001b[0m \u001b[38;5;28;01mfinally\u001b[39;00m:\n\u001b[0;32m     69\u001b[0m   \u001b[38;5;28;01mdel\u001b[39;00m filtered_tb\n",
      "File \u001b[1;32mC:\\Users\\DEMETR~1.PAP\\AppData\\Local\\Temp\\__autograph_generated_filefp1w7zk5.py:15\u001b[0m, in \u001b[0;36mouter_factory.<locals>.inner_factory.<locals>.tf__train_function\u001b[1;34m(iterator)\u001b[0m\n\u001b[0;32m     13\u001b[0m \u001b[38;5;28;01mtry\u001b[39;00m:\n\u001b[0;32m     14\u001b[0m     do_return \u001b[38;5;241m=\u001b[39m \u001b[38;5;28;01mTrue\u001b[39;00m\n\u001b[1;32m---> 15\u001b[0m     retval_ \u001b[38;5;241m=\u001b[39m ag__\u001b[38;5;241m.\u001b[39mconverted_call(ag__\u001b[38;5;241m.\u001b[39mld(step_function), (ag__\u001b[38;5;241m.\u001b[39mld(\u001b[38;5;28mself\u001b[39m), ag__\u001b[38;5;241m.\u001b[39mld(iterator)), \u001b[38;5;28;01mNone\u001b[39;00m, fscope)\n\u001b[0;32m     16\u001b[0m \u001b[38;5;28;01mexcept\u001b[39;00m:\n\u001b[0;32m     17\u001b[0m     do_return \u001b[38;5;241m=\u001b[39m \u001b[38;5;28;01mFalse\u001b[39;00m\n",
      "\u001b[1;31mValueError\u001b[0m: in user code:\n\n    File \"C:\\Users\\demetri.papamichalis\\anaconda3\\lib\\site-packages\\keras\\engine\\training.py\", line 1051, in train_function  *\n        return step_function(self, iterator)\n    File \"C:\\Users\\demetri.papamichalis\\anaconda3\\lib\\site-packages\\keras\\engine\\training.py\", line 1040, in step_function  **\n        outputs = model.distribute_strategy.run(run_step, args=(data,))\n    File \"C:\\Users\\demetri.papamichalis\\anaconda3\\lib\\site-packages\\keras\\engine\\training.py\", line 1030, in run_step  **\n        outputs = model.train_step(data)\n    File \"C:\\Users\\demetri.papamichalis\\anaconda3\\lib\\site-packages\\keras\\engine\\training.py\", line 889, in train_step\n        y_pred = self(x, training=True)\n    File \"C:\\Users\\demetri.papamichalis\\anaconda3\\lib\\site-packages\\keras\\utils\\traceback_utils.py\", line 67, in error_handler\n        raise e.with_traceback(filtered_tb) from None\n    File \"C:\\Users\\demetri.papamichalis\\anaconda3\\lib\\site-packages\\keras\\engine\\input_spec.py\", line 264, in assert_input_compatibility\n        raise ValueError(f'Input {input_index} of layer \"{layer_name}\" is '\n\n    ValueError: Input 0 of layer \"model_4\" is incompatible with the layer: expected shape=(None, 120, 113943), found shape=(None, None, 17)\n"
     ]
    }
   ],
   "source": [
    "inputs = keras.Input(shape=(sequence_length, counts.shape[-1]))\n",
    "x = layers.LSTM(16)(inputs)\n",
    "outputs = layers.Dense(1)(x)\n",
    "model = keras.Model(inputs, outputs)\n",
    "\n",
    "callbacks = [\n",
    "    keras.callbacks.ModelCheckpoint(\"hessi.solar.flare.2002to2016\",\n",
    "                                    save_best_only=True)\n",
    "]\n",
    "model.compile(optimizer=\"rmsprop\", loss=\"mse\", metrics=[\"mae\"])\n",
    "history = model.fit(train_dataset,\n",
    "                    epochs=10,\n",
    "                    validation_data=val_dataset,\n",
    "                    callbacks=callbacks)\n",
    "\n",
    "model = keras.models.load_model(\"hessi.solar.flare.2002to2016\")"
   ]
  },
  {
   "cell_type": "code",
   "execution_count": 35,
   "id": "daafefea",
   "metadata": {},
   "outputs": [
    {
     "data": {
      "image/png": "[encoded data removed]",
      "text/plain": [
       "<Figure size 360x288 with 1 Axes>"
      ]
     },
     "metadata": {},
     "output_type": "display_data"
    }
   ],
   "source": [
    "# plot results\n",
    "loss = history.history[\"mae\"]\n",
    "val_loss = history.history[\"val_mae\"]\n",
    "epochs = range(1, len(loss) + 1)\n",
    "plt.figure()\n",
    "plt.plot(epochs, loss, \"bo\", label=\"Training MAE\")\n",
    "plt.plot(epochs, val_loss, \"b\", label=\"Validation MAE\")\n",
    "plt.title(\"Training and validation MAE\")\n",
    "plt.legend()\n",
    "plt.show()"
   ]
  },
  {
   "cell_type": "markdown",
   "id": "7bb39feb",
   "metadata": {},
   "source": [
    "### Recurrent Nural Network"
   ]
  },
  {
   "cell_type": "code",
   "execution_count": 36,
   "id": "fc10ae25",
   "metadata": {},
   "outputs": [
    {
     "name": "stdout",
     "output_type": "stream",
     "text": [
      "(None, 120, 16)\n"
     ]
    }
   ],
   "source": [
    "num_features = 14\n",
    "steps = 120\n",
    "inputs = keras.Input(shape=(steps, num_features))\n",
    "outputs = layers.SimpleRNN(16, return_sequences=True)(inputs)\n",
    "print(outputs.shape)"
   ]
  },
  {
   "cell_type": "code",
   "execution_count": 37,
   "id": "a5b93942",
   "metadata": {},
   "outputs": [],
   "source": [
    "# Stacked RNN Layers\n",
    "inputs = keras.Input(shape=(steps, num_features))\n",
    "x = layers.SimpleRNN(16, return_sequences=True)(inputs)\n",
    "x = layers.SimpleRNN(16, return_sequences=True)(x)\n",
    "outputs = layers.SimpleRNN(16)(x)"
   ]
  },
  {
   "cell_type": "markdown",
   "id": "c67cbf74",
   "metadata": {},
   "source": [
    "### Train and evalueate a dropout-regularized, stacked GRU model\n"
   ]
  },
  {
   "cell_type": "code",
   "execution_count": 38,
   "id": "52ecf9ec",
   "metadata": {},
   "outputs": [
    {
     "name": "stdout",
     "output_type": "stream",
     "text": [
      "Epoch 1/10\n"
     ]
    },
    {
     "ename": "ValueError",
     "evalue": "in user code:\n\n    File \"C:\\Users\\demetri.papamichalis\\anaconda3\\lib\\site-packages\\keras\\engine\\training.py\", line 1051, in train_function  *\n        return step_function(self, iterator)\n    File \"C:\\Users\\demetri.papamichalis\\anaconda3\\lib\\site-packages\\keras\\engine\\training.py\", line 1040, in step_function  **\n        outputs = model.distribute_strategy.run(run_step, args=(data,))\n    File \"C:\\Users\\demetri.papamichalis\\anaconda3\\lib\\site-packages\\keras\\engine\\training.py\", line 1030, in run_step  **\n        outputs = model.train_step(data)\n    File \"C:\\Users\\demetri.papamichalis\\anaconda3\\lib\\site-packages\\keras\\engine\\training.py\", line 889, in train_step\n        y_pred = self(x, training=True)\n    File \"C:\\Users\\demetri.papamichalis\\anaconda3\\lib\\site-packages\\keras\\utils\\traceback_utils.py\", line 67, in error_handler\n        raise e.with_traceback(filtered_tb) from None\n    File \"C:\\Users\\demetri.papamichalis\\anaconda3\\lib\\site-packages\\keras\\engine\\input_spec.py\", line 264, in assert_input_compatibility\n        raise ValueError(f'Input {input_index} of layer \"{layer_name}\" is '\n\n    ValueError: Input 0 of layer \"model_5\" is incompatible with the layer: expected shape=(None, 120, 113943), found shape=(None, None, 17)\n",
     "output_type": "error",
     "traceback": [
      "\u001b[1;31m---------------------------------------------------------------------------\u001b[0m",
      "\u001b[1;31mValueError\u001b[0m                                Traceback (most recent call last)",
      "Input \u001b[1;32mIn [38]\u001b[0m, in \u001b[0;36m<cell line: 13>\u001b[1;34m()\u001b[0m\n\u001b[0;32m      8\u001b[0m callbacks \u001b[38;5;241m=\u001b[39m [\n\u001b[0;32m      9\u001b[0m     keras\u001b[38;5;241m.\u001b[39mcallbacks\u001b[38;5;241m.\u001b[39mModelCheckpoint(\u001b[38;5;124m\"\u001b[39m\u001b[38;5;124mhessi.solar.flare.2002to2016.keras\u001b[39m\u001b[38;5;124m\"\u001b[39m,\n\u001b[0;32m     10\u001b[0m                                     save_best_only\u001b[38;5;241m=\u001b[39m\u001b[38;5;28;01mTrue\u001b[39;00m)\n\u001b[0;32m     11\u001b[0m ]\n\u001b[0;32m     12\u001b[0m model\u001b[38;5;241m.\u001b[39mcompile(optimizer\u001b[38;5;241m=\u001b[39m\u001b[38;5;124m\"\u001b[39m\u001b[38;5;124mrmsprop\u001b[39m\u001b[38;5;124m\"\u001b[39m, loss\u001b[38;5;241m=\u001b[39m\u001b[38;5;124m\"\u001b[39m\u001b[38;5;124mmse\u001b[39m\u001b[38;5;124m\"\u001b[39m, metrics\u001b[38;5;241m=\u001b[39m[\u001b[38;5;124m\"\u001b[39m\u001b[38;5;124mmae\u001b[39m\u001b[38;5;124m\"\u001b[39m])\n\u001b[1;32m---> 13\u001b[0m history \u001b[38;5;241m=\u001b[39m \u001b[43mmodel\u001b[49m\u001b[38;5;241;43m.\u001b[39;49m\u001b[43mfit\u001b[49m\u001b[43m(\u001b[49m\u001b[43mtrain_dataset\u001b[49m\u001b[43m,\u001b[49m\n\u001b[0;32m     14\u001b[0m \u001b[43m                    \u001b[49m\u001b[43mepochs\u001b[49m\u001b[38;5;241;43m=\u001b[39;49m\u001b[38;5;241;43m10\u001b[39;49m\u001b[43m,\u001b[49m\n\u001b[0;32m     15\u001b[0m \u001b[43m                    \u001b[49m\u001b[43mvalidation_data\u001b[49m\u001b[38;5;241;43m=\u001b[39;49m\u001b[43mval_dataset\u001b[49m\u001b[43m,\u001b[49m\n\u001b[0;32m     16\u001b[0m \u001b[43m                    \u001b[49m\u001b[43mcallbacks\u001b[49m\u001b[38;5;241;43m=\u001b[39;49m\u001b[43mcallbacks\u001b[49m\u001b[43m)\u001b[49m\n\u001b[0;32m     17\u001b[0m model \u001b[38;5;241m=\u001b[39m keras\u001b[38;5;241m.\u001b[39mmodels\u001b[38;5;241m.\u001b[39mload_model(\u001b[38;5;124m\"\u001b[39m\u001b[38;5;124mhessi.solar.flare.2002to2016.keras\u001b[39m\u001b[38;5;124m\"\u001b[39m)\n\u001b[0;32m     18\u001b[0m \u001b[38;5;28mprint\u001b[39m(\u001b[38;5;124mf\u001b[39m\u001b[38;5;124m\"\u001b[39m\u001b[38;5;124mTest MAE: \u001b[39m\u001b[38;5;132;01m{\u001b[39;00mmodel\u001b[38;5;241m.\u001b[39mevaluate(test_dataset)[\u001b[38;5;241m1\u001b[39m]\u001b[38;5;132;01m:\u001b[39;00m\u001b[38;5;124m.2f\u001b[39m\u001b[38;5;132;01m}\u001b[39;00m\u001b[38;5;124m\"\u001b[39m)\n",
      "File \u001b[1;32m~\\anaconda3\\lib\\site-packages\\keras\\utils\\traceback_utils.py:67\u001b[0m, in \u001b[0;36mfilter_traceback.<locals>.error_handler\u001b[1;34m(*args, **kwargs)\u001b[0m\n\u001b[0;32m     65\u001b[0m \u001b[38;5;28;01mexcept\u001b[39;00m \u001b[38;5;167;01mException\u001b[39;00m \u001b[38;5;28;01mas\u001b[39;00m e:  \u001b[38;5;66;03m# pylint: disable=broad-except\u001b[39;00m\n\u001b[0;32m     66\u001b[0m   filtered_tb \u001b[38;5;241m=\u001b[39m _process_traceback_frames(e\u001b[38;5;241m.\u001b[39m__traceback__)\n\u001b[1;32m---> 67\u001b[0m   \u001b[38;5;28;01mraise\u001b[39;00m e\u001b[38;5;241m.\u001b[39mwith_traceback(filtered_tb) \u001b[38;5;28;01mfrom\u001b[39;00m \u001b[38;5;28mNone\u001b[39m\n\u001b[0;32m     68\u001b[0m \u001b[38;5;28;01mfinally\u001b[39;00m:\n\u001b[0;32m     69\u001b[0m   \u001b[38;5;28;01mdel\u001b[39;00m filtered_tb\n",
      "File \u001b[1;32mC:\\Users\\DEMETR~1.PAP\\AppData\\Local\\Temp\\__autograph_generated_filefp1w7zk5.py:15\u001b[0m, in \u001b[0;36mouter_factory.<locals>.inner_factory.<locals>.tf__train_function\u001b[1;34m(iterator)\u001b[0m\n\u001b[0;32m     13\u001b[0m \u001b[38;5;28;01mtry\u001b[39;00m:\n\u001b[0;32m     14\u001b[0m     do_return \u001b[38;5;241m=\u001b[39m \u001b[38;5;28;01mTrue\u001b[39;00m\n\u001b[1;32m---> 15\u001b[0m     retval_ \u001b[38;5;241m=\u001b[39m ag__\u001b[38;5;241m.\u001b[39mconverted_call(ag__\u001b[38;5;241m.\u001b[39mld(step_function), (ag__\u001b[38;5;241m.\u001b[39mld(\u001b[38;5;28mself\u001b[39m), ag__\u001b[38;5;241m.\u001b[39mld(iterator)), \u001b[38;5;28;01mNone\u001b[39;00m, fscope)\n\u001b[0;32m     16\u001b[0m \u001b[38;5;28;01mexcept\u001b[39;00m:\n\u001b[0;32m     17\u001b[0m     do_return \u001b[38;5;241m=\u001b[39m \u001b[38;5;28;01mFalse\u001b[39;00m\n",
      "\u001b[1;31mValueError\u001b[0m: in user code:\n\n    File \"C:\\Users\\demetri.papamichalis\\anaconda3\\lib\\site-packages\\keras\\engine\\training.py\", line 1051, in train_function  *\n        return step_function(self, iterator)\n    File \"C:\\Users\\demetri.papamichalis\\anaconda3\\lib\\site-packages\\keras\\engine\\training.py\", line 1040, in step_function  **\n        outputs = model.distribute_strategy.run(run_step, args=(data,))\n    File \"C:\\Users\\demetri.papamichalis\\anaconda3\\lib\\site-packages\\keras\\engine\\training.py\", line 1030, in run_step  **\n        outputs = model.train_step(data)\n    File \"C:\\Users\\demetri.papamichalis\\anaconda3\\lib\\site-packages\\keras\\engine\\training.py\", line 889, in train_step\n        y_pred = self(x, training=True)\n    File \"C:\\Users\\demetri.papamichalis\\anaconda3\\lib\\site-packages\\keras\\utils\\traceback_utils.py\", line 67, in error_handler\n        raise e.with_traceback(filtered_tb) from None\n    File \"C:\\Users\\demetri.papamichalis\\anaconda3\\lib\\site-packages\\keras\\engine\\input_spec.py\", line 264, in assert_input_compatibility\n        raise ValueError(f'Input {input_index} of layer \"{layer_name}\" is '\n\n    ValueError: Input 0 of layer \"model_5\" is incompatible with the layer: expected shape=(None, 120, 113943), found shape=(None, None, 17)\n"
     ]
    }
   ],
   "source": [
    "inputs = keras.Input(shape=(sequence_length, counts.shape[-1]))\n",
    "x = layers.GRU(32, recurrent_dropout=0.5, return_sequences=True)(inputs)\n",
    "x = layers.GRU(32, recurrent_dropout=0.5)(x)\n",
    "x = layers.Dropout(0.5)(x)\n",
    "outputs = layers.Dense(1)(x)\n",
    "model = keras.Model(inputs, outputs)\n",
    "  \n",
    "callbacks = [\n",
    "    keras.callbacks.ModelCheckpoint(\"hessi.solar.flare.2002to2016.keras\",\n",
    "                                    save_best_only=True)\n",
    "]\n",
    "model.compile(optimizer=\"rmsprop\", loss=\"mse\", metrics=[\"mae\"])\n",
    "history = model.fit(train_dataset,\n",
    "                    epochs=10,\n",
    "                    validation_data=val_dataset,\n",
    "                    callbacks=callbacks)\n",
    "model = keras.models.load_model(\"hessi.solar.flare.2002to2016.keras\")\n",
    "print(f\"Test MAE: {model.evaluate(test_dataset)[1]:.2f}\")"
   ]
  },
  {
   "cell_type": "code",
   "execution_count": 39,
   "id": "7cf7f67b",
   "metadata": {},
   "outputs": [
    {
     "data": {
      "image/png": "[encoded data removed]",
      "text/plain": [
       "<Figure size 360x288 with 1 Axes>"
      ]
     },
     "metadata": {},
     "output_type": "display_data"
    }
   ],
   "source": [
    "# plot results\n",
    "loss = history.history[\"mae\"]\n",
    "val_loss = history.history[\"val_mae\"]\n",
    "epochs = range(1, len(loss) + 1)\n",
    "plt.figure()\n",
    "plt.plot(epochs, loss, \"bo\", label=\"Training MAE\")\n",
    "plt.plot(epochs, val_loss, \"b\", label=\"Validation MAE\")\n",
    "plt.title(\"Training and validation MAE\")\n",
    "plt.legend()\n",
    "plt.show()"
   ]
  },
  {
   "cell_type": "code",
   "execution_count": null,
   "id": "313ecbd1",
   "metadata": {},
   "outputs": [],
   "source": []
  }
 ],
 "metadata": {
  "kernelspec": {
   "display_name": "Python 3 (ipykernel)",
   "language": "python",
   "name": "python3"
  },
  "language_info": {
   "codemirror_mode": {
    "name": "ipython",
    "version": 3
   },
   "file_extension": ".py",
   "mimetype": "text/x-python",
   "name": "python",
   "nbconvert_exporter": "python",
   "pygments_lexer": "ipython3",
   "version": "3.9.12"
  }
 },
 "nbformat": 4,
 "nbformat_minor": 5
}
